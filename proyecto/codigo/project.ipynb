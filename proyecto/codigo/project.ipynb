{
  "nbformat": 4,
  "nbformat_minor": 0,
  "metadata": {
    "colab": {
      "name": "project.ipynb",
      "provenance": [],
      "collapsed_sections": []
    },
    "kernelspec": {
      "name": "python3",
      "display_name": "Python 3"
    }
  },
  "cells": [
    {
      "cell_type": "code",
      "metadata": {
        "id": "3LcyUQy9O57l",
        "colab_type": "code",
        "colab": {}
      },
      "source": [
        "import pandas as pd "
      ],
      "execution_count": null,
      "outputs": []
    },
    {
      "cell_type": "code",
      "metadata": {
        "id": "Z-u79eDjPFEC",
        "colab_type": "code",
        "colab": {}
      },
      "source": [
        "df= pd.read_csv ('datos.csv', sep=',', header=0)"
      ],
      "execution_count": null,
      "outputs": []
    },
    {
      "cell_type": "code",
      "metadata": {
        "id": "syQ-_IwfPO0K",
        "colab_type": "code",
        "cellView": "both",
        "colab": {}
      },
      "source": [
        "\n",
        "columns_pro = \"estu_consecutivo.1\",\"estu_exterior\",\"periodo\",\"estu_tieneetnia\",\"estu_tomo_cursopreparacion\", \n",
        "\"estu_cursodocentesies\",\"estu_cursoiesapoyoexterno\",\"estu_cursoiesexterna\",\"estu_simulacrotipoicfes\",\n",
        "\"estu_actividadrefuerzoareas\",\"estu_actividadrefuerzogeneric\",\"fami_trabajolaborpadre\",\"fami_trabajolabormadre\",\n",
        "\"fami_numlibros\",\"estu_inst_cod_departamento\",\"estu_tipodocumento.1\",\"estu_nacionalidad.1\",\"estu_genero.1\",\n",
        "\"estu_fechanacimiento.1\",\"periodo.1\",\"estu_estudiante.1\",\"estu_pais_reside.1\",\"estu_depto_reside.1\",\n",
        "\"estu_cod_reside_depto.1\",\"estu_mcpio_reside.1\",\"estu_cod_reside_mcpio.1\",\"estu_areareside\",\"estu_valorpensioncolegio\",\n",
        "\"fami_educacionpadre.1\",\"fami_educacionmadre.1\",\"fami_ocupacionpadre.1\",\"fami_ocupacionmadre.1\",\"fami_estratovivienda.1\",\n",
        "\"fami_nivelsisben\",\"fami_pisoshogar\",\"fami_tieneinternet.1\",\"fami_tienecomputador.1\",\"fami_tienemicroondas\",\n",
        "\"fami_tienehorno\",\"fami_tieneautomovil.1\",\"fami_tienedvd\",\"fami_tiene_nevera.1\",\"fami_tiene_celular.1\",\n",
        "\"fami_telefono.1\",\"fami_ingresofmiliarmensual\",\"estu_trabajaactualmente\",\"estu_antecedentes\",\"estu_expectativas\",\n",
        "\"cole_codigo_icfes\",\"cole_cod_dane_establecimiento\",\"cole_nombre_establecimiento\",\"cole_genero\",\"cole_naturaleza\",\n",
        "\"cole_calendario\",\"cole_bilingue\",\"cole_caracter\",\"cole_cod_dane_sede\",\"cole_nombre_sede\",\"cole_sede_principal\",\n",
        "\"cole_area_ubicacion\",\"cole_jornada\",\"cole_cod_mcpio_ubicacion\",\"cole_mcpio_ubicacion\",\"cole_cod_depto_ubicacion\",\n",
        "\"cole_depto_ubicacion\",\"punt_lenguaje\",\"punt_matematicas\",\"punt_biologia\",\"punt_quimica\",\"punt_fisica\",\n",
        "\"punt_ciencias_sociales\",\"punt_filosofia\",\"punt_ingles\",\"desemp_ingles\",\"profundiza\",\"puntaje_prof\",\"desemp_prof\",\"exito\"\n",
        "\n",
        "columns_pro = columns_pro.lower()\n",
        "columns_pro = columns_pro.split(',')\n",
        "\n",
        "punt_columns = [\"punt_lenguaje\",\"punt_matematicas\",\"punt_biologia\",\"punt_quimica\",\"punt_fisica\",\n",
        "\"punt_ciencias_sociales\",\"punt_filosofia\",\"punt_ingles\"]\n",
        "\n",
        "punt_columns_pro = [x.lower() for x in punt_columns_]\n",
        "\n",
        "columns_drop = [x for x in columns_pro if x not in punt_columns_pro and x in df.columns]\n",
        "\n",
        "df_mod = df.drop(columns=columns_drop)\n",
        "\n",
        "punt_columns = [\"punt_lenguaje\",\"punt_matematicas\",\"punt_biologia\",\"punt_quimica\",\"punt_fisica\",\n",
        "\"punt_ciencias_sociales\",\"punt_filosofia\",\"punt_ingles\"]\n",
        "\n",
        "punt_columns_pro = [x.lower() for x in punt_columns_]\n",
        "\n"
      ],
      "execution_count": null,
      "outputs": []
    }
  ]
}